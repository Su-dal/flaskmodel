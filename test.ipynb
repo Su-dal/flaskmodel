{
 "cells": [
  {
   "cell_type": "code",
   "execution_count": 5,
   "metadata": {},
   "outputs": [
    {
     "name": "stdout",
     "output_type": "stream",
     "text": [
      "Collecting git+https://****@github.com/SKTBrain/KoBERT.git@master\n",
      "  Cloning https://****@github.com/SKTBrain/KoBERT.git (to revision master) to c:\\users\\junho\\appdata\\local\\temp\\pip-req-build-fcozq5cf\n",
      "  Resolved https://****@github.com/SKTBrain/KoBERT.git to commit 47a69af87928fc24e20f571fe10c3cc9dd9af9a3\n",
      "  Preparing metadata (setup.py): started\n",
      "  Preparing metadata (setup.py): finished with status 'done'\n",
      "Collecting boto3<=1.15.18\n",
      "  Downloading boto3-1.15.18-py2.py3-none-any.whl (129 kB)\n",
      "     -------------------------------------- 129.1/129.1 kB 1.1 MB/s eta 0:00:00\n",
      "Collecting gluonnlp<=0.10.0,>=0.6.0\n",
      "  Downloading gluonnlp-0.10.0.tar.gz (344 kB)\n",
      "     -------------------------------------- 344.5/344.5 kB 1.3 MB/s eta 0:00:00\n",
      "  Preparing metadata (setup.py): started\n",
      "  Preparing metadata (setup.py): finished with status 'done'\n",
      "Collecting mxnet<=1.7.0.post2,>=1.4.0\n",
      "  Downloading mxnet-1.7.0.post2-py2.py3-none-win_amd64.whl (33.1 MB)\n",
      "     ---------------------------------------- 33.1/33.1 MB 1.3 MB/s eta 0:00:00\n"
     ]
    },
    {
     "name": "stderr",
     "output_type": "stream",
     "text": [
      "  Running command git clone --filter=blob:none --quiet 'https://****@github.com/SKTBrain/KoBERT.git' 'C:\\Users\\junho\\AppData\\Local\\Temp\\pip-req-build-fcozq5cf'\n",
      "ERROR: Could not find a version that satisfies the requirement onnxruntime<=1.8.0,==1.8.0 (from kobert) (from versions: 1.12.0, 1.12.1, 1.13.1)\n",
      "ERROR: No matching distribution found for onnxruntime<=1.8.0,==1.8.0\n"
     ]
    }
   ],
   "source": [
    "!pip install git+https://git@github.com/SKTBrain/KoBERT.git@master"
   ]
  },
  {
   "cell_type": "code",
   "execution_count": 8,
   "metadata": {},
   "outputs": [
    {
     "name": "stdout",
     "output_type": "stream",
     "text": [
      "Collecting flask-restfulNote: you may need to restart the kernel to use updated packages.\n",
      "\n",
      "  Downloading Flask_RESTful-0.3.9-py2.py3-none-any.whl (25 kB)\n",
      "Requirement already satisfied: Flask>=0.8 in c:\\junho\\envs\\sudal\\lib\\site-packages (from flask-restful) (2.0.3)\n",
      "Requirement already satisfied: pytz in c:\\users\\junho\\appdata\\roaming\\python\\python310\\site-packages (from flask-restful) (2021.3)\n",
      "Requirement already satisfied: six>=1.3.0 in c:\\junho\\envs\\sudal\\lib\\site-packages (from flask-restful) (1.16.0)\n",
      "Collecting aniso8601>=0.82\n",
      "  Downloading aniso8601-9.0.1-py2.py3-none-any.whl (52 kB)\n",
      "     ---------------------------------------- 52.8/52.8 kB 1.4 MB/s eta 0:00:00\n",
      "Requirement already satisfied: click>=7.1.2 in c:\\junho\\envs\\sudal\\lib\\site-packages (from Flask>=0.8->flask-restful) (8.0.4)\n",
      "Requirement already satisfied: Werkzeug>=2.0 in c:\\junho\\envs\\sudal\\lib\\site-packages (from Flask>=0.8->flask-restful) (2.0.3)\n",
      "Requirement already satisfied: itsdangerous>=2.0 in c:\\junho\\envs\\sudal\\lib\\site-packages (from Flask>=0.8->flask-restful) (2.0.1)\n",
      "Requirement already satisfied: Jinja2>=3.0 in c:\\junho\\envs\\sudal\\lib\\site-packages (from Flask>=0.8->flask-restful) (3.0.3)\n",
      "Requirement already satisfied: colorama in c:\\junho\\envs\\sudal\\lib\\site-packages (from click>=7.1.2->Flask>=0.8->flask-restful) (0.4.6)\n",
      "Requirement already satisfied: MarkupSafe>=2.0 in c:\\junho\\envs\\sudal\\lib\\site-packages (from Jinja2>=3.0->Flask>=0.8->flask-restful) (2.1.1)\n",
      "Installing collected packages: aniso8601, flask-restful\n",
      "Successfully installed aniso8601-9.0.1 flask-restful-0.3.9\n"
     ]
    }
   ],
   "source": [
    "pip install flask-restful"
   ]
  },
  {
   "cell_type": "code",
   "execution_count": 12,
   "metadata": {},
   "outputs": [
    {
     "name": "stdout",
     "output_type": "stream",
     "text": [
      "지난달 30일 미국 애리조나주에서 열리는 LG트윈스 스프링캠프에 참석하기 위해 인천공항에 모습을 드러낸 김현수는 실력이 없는 선수가 나가는 것보단 실력 있는 선수가 나가는 게 맞다고 말하며 뼈 있는 말을 전했다.\n"
     ]
    }
   ],
   "source": [
    "import torch\n",
    "#from transformers import PreTrainedTokenizerFast\n",
    "#from transformers import BartForConditionalGeneration\n",
    "\n",
    "tokenizer = torch.load('tokenizer.pt')\n",
    "model = torch.load('kobart.pt')\n",
    "\n",
    "text = \"\"\"\n",
    "지난달 30일 미국 애리조나주에서 열리는 LG트윈스 스프링캠프에 참석하기 위해 인천공항에 모습을 드러낸 김현수는 추신수의 발언에 대해 \"지극히 개인적인 의견이라고 생각한다. 대표팀은 저희가 나간다고 나가는 게 아니고 뽑히는 거다. 세대교체는 자연스럽게 이뤄져야지, 실력이 없는 선수가 나가는 것보단 실력 있는 선수가 나가는 게 맞다고 생각한다\"며 뼈 있는 말을 전했다.\n",
    "\n",
    "추신수에게 \"언제까지 김광현, 양현종이냐\"는 소리를 들었던 양현종도 같은 날 스프링캠프를 위해 미국으로 출국하기 전 \"저랑 광현이랑 투수 중에 나이가 제일 많더라. 잘하고 열심히 하는 건 당연하겠지만 저희가 솔선수범을 보여줌으로써 어린 선수들에게 귀감이 될 수 있도록 하겠다\"며 굳은 각오를 다졌다.\n",
    "\"\"\"\n",
    "\n",
    "text = text.replace('\\n', ' ')\n",
    "\n",
    "raw_input_ids = tokenizer.encode(text)\n",
    "input_ids = [tokenizer.bos_token_id] + raw_input_ids + [tokenizer.eos_token_id]\n",
    "\n",
    "summary_ids = model.generate(torch.tensor([input_ids]),  num_beams=4,  max_length=512,  eos_token_id=1)\n",
    "summed=tokenizer.decode(summary_ids.squeeze().tolist(), skip_special_tokens=True)\n",
    "print(summed)\n",
    "\n"
   ]
  },
  {
   "cell_type": "code",
   "execution_count": 6,
   "metadata": {},
   "outputs": [],
   "source": [
    "torch.save(model,'C:/Users/junho/Desktop/flasknews/kobart.pt')"
   ]
  },
  {
   "cell_type": "code",
   "execution_count": 9,
   "metadata": {},
   "outputs": [],
   "source": [
    "torch.save(tokenizer,'C:/Users/junho/Desktop/flasknews/tokenizer.pt' )"
   ]
  }
 ],
 "metadata": {
  "kernelspec": {
   "display_name": "sudal",
   "language": "python",
   "name": "python3"
  },
  "language_info": {
   "codemirror_mode": {
    "name": "ipython",
    "version": 3
   },
   "file_extension": ".py",
   "mimetype": "text/x-python",
   "name": "python",
   "nbconvert_exporter": "python",
   "pygments_lexer": "ipython3",
   "version": "3.10.9 | packaged by conda-forge | (main, Jan 11 2023, 15:15:40) [MSC v.1916 64 bit (AMD64)]"
  },
  "orig_nbformat": 4,
  "vscode": {
   "interpreter": {
    "hash": "c752190d49c9a43a27bcea3f8cd11e376827d0ab02b5b9329d16685c7116f3aa"
   }
  }
 },
 "nbformat": 4,
 "nbformat_minor": 2
}
